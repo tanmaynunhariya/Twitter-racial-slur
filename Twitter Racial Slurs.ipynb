{
 "cells": [
  {
   "cell_type": "code",
   "execution_count": 45,
   "id": "1e01b6d7",
   "metadata": {},
   "outputs": [],
   "source": [
    "#loading all the directories\n",
    "\n",
    "import pandas as pd\n",
    "import numpy as np\n",
    "import nltk\n",
    "from nltk.corpus import stopwords\n",
    "import string\n",
    "\n",
    "#loading data\n",
    "tweets_data = pd.DataFrame(pd.read_excel(\"Tweets2.xlsx\"))\n"
   ]
  },
  {
   "cell_type": "code",
   "execution_count": 48,
   "id": "a0543c14",
   "metadata": {},
   "outputs": [
    {
     "data": {
      "text/html": [
       "<div>\n",
       "<style scoped>\n",
       "    .dataframe tbody tr th:only-of-type {\n",
       "        vertical-align: middle;\n",
       "    }\n",
       "\n",
       "    .dataframe tbody tr th {\n",
       "        vertical-align: top;\n",
       "    }\n",
       "\n",
       "    .dataframe thead th {\n",
       "        text-align: right;\n",
       "    }\n",
       "</style>\n",
       "<table border=\"1\" class=\"dataframe\">\n",
       "  <thead>\n",
       "    <tr style=\"text-align: right;\">\n",
       "      <th></th>\n",
       "      <th>Tweets</th>\n",
       "      <th>Racist</th>\n",
       "    </tr>\n",
       "  </thead>\n",
       "  <tbody>\n",
       "    <tr>\n",
       "      <th>0</th>\n",
       "      <td>Billie Eilish mocked Asian and black accents, ...</td>\n",
       "      <td>1</td>\n",
       "    </tr>\n",
       "    <tr>\n",
       "      <th>1</th>\n",
       "      <td>This Is Miss America, not Miss Muslim.</td>\n",
       "      <td>1</td>\n",
       "    </tr>\n",
       "    <tr>\n",
       "      <th>2</th>\n",
       "      <td>Same! I love it! But they miss so many words- ...</td>\n",
       "      <td>1</td>\n",
       "    </tr>\n",
       "    <tr>\n",
       "      <th>3</th>\n",
       "      <td>The Ancient West Africans of the city of Ile-I...</td>\n",
       "      <td>0</td>\n",
       "    </tr>\n",
       "    <tr>\n",
       "      <th>4</th>\n",
       "      <td>Millions of Africans travel to Europe to find ...</td>\n",
       "      <td>0</td>\n",
       "    </tr>\n",
       "  </tbody>\n",
       "</table>\n",
       "</div>"
      ],
      "text/plain": [
       "                                              Tweets  Racist\n",
       "0  Billie Eilish mocked Asian and black accents, ...       1\n",
       "1             This Is Miss America, not Miss Muslim.       1\n",
       "2  Same! I love it! But they miss so many words- ...       1\n",
       "3  The Ancient West Africans of the city of Ile-I...       0\n",
       "4  Millions of Africans travel to Europe to find ...       0"
      ]
     },
     "execution_count": 48,
     "metadata": {},
     "output_type": "execute_result"
    }
   ],
   "source": [
    "#displaying top 5 data \n",
    "tweets_data.head(5)"
   ]
  },
  {
   "cell_type": "code",
   "execution_count": 104,
   "id": "2b0bd1b1",
   "metadata": {},
   "outputs": [
    {
     "name": "stderr",
     "output_type": "stream",
     "text": [
      "[nltk_data] Downloading package stopwords to\n",
      "[nltk_data]     C:\\Users\\tanma\\AppData\\Roaming\\nltk_data...\n",
      "[nltk_data]   Package stopwords is already up-to-date!\n"
     ]
    },
    {
     "data": {
      "text/plain": [
       "True"
      ]
     },
     "execution_count": 104,
     "metadata": {},
     "output_type": "execute_result"
    }
   ],
   "source": [
    "#downloading stopwords\n",
    "\n",
    "nltk.download('stopwords') "
   ]
  },
  {
   "cell_type": "code",
   "execution_count": 20,
   "id": "4cda1129",
   "metadata": {},
   "outputs": [],
   "source": [
    "#function for cleaning the text\n",
    "\n",
    "def pr_tweet(Tweets):\n",
    "    nopunc=[char for char in Tweets if char not in string.punctuation ]\n",
    "    nopunc=''.join(nopunc)\n",
    "    \n",
    "    clean_words=[word for word in nopunc.split() if word.lower() not in stopwords.words('english')]\n",
    "    \n",
    "    return clean_words"
   ]
  },
  {
   "cell_type": "code",
   "execution_count": 23,
   "id": "5a4d3525",
   "metadata": {},
   "outputs": [
    {
     "data": {
      "text/plain": [
       "0    [Billie, Eilish, mocked, Asian, black, accents...\n",
       "1                        [Miss, America, Miss, Muslim]\n",
       "2    [love, miss, many, words, eg, CHINK, LOLLY, week]\n",
       "3    [Ancient, West, Africans, city, IleIfe, respon...\n",
       "4    [Millions, Africans, travel, Europe, find, wor...\n",
       "Name: Tweets, dtype: object"
      ]
     },
     "execution_count": 23,
     "metadata": {},
     "output_type": "execute_result"
    }
   ],
   "source": [
    "#Showing the tokenization of text\n",
    "\n",
    "tweets_data['Tweets'].head().apply(pr_tweet)"
   ]
  },
  {
   "cell_type": "code",
   "execution_count": 24,
   "id": "b569b656",
   "metadata": {},
   "outputs": [],
   "source": [
    "#convert a collection of text to matrix of token\n",
    "\n",
    "from sklearn.feature_extraction.text import CountVectorizer\n",
    "msg_bow=CountVectorizer(analyzer=pr_tweet).fit_transform(tweets_data['Tweets'])"
   ]
  },
  {
   "cell_type": "code",
   "execution_count": 30,
   "id": "a12b98f7",
   "metadata": {},
   "outputs": [],
   "source": [
    "#splitting data set for training and testing\n",
    "\n",
    "from sklearn.model_selection import train_test_split\n",
    "X_train,X_test,y_train,y_test=train_test_split(msg_bow,tweets_data['Racist'],test_size=0.35,random_state=0)"
   ]
  },
  {
   "cell_type": "code",
   "execution_count": 31,
   "id": "597740a6",
   "metadata": {},
   "outputs": [],
   "source": [
    "#create and train Naive Bayes Classifier\n",
    "\n",
    "from sklearn.naive_bayes import MultinomialNB\n",
    "classifier = MultinomialNB().fit(X_train,y_train)"
   ]
  },
  {
   "cell_type": "code",
   "execution_count": 32,
   "id": "43628f25",
   "metadata": {},
   "outputs": [
    {
     "name": "stdout",
     "output_type": "stream",
     "text": [
      "[0 0 1 0 1 0 0 0 0 0 0 0 1 1 1 1 1 0 1 0 1 1 0 0 1]\n",
      "[0 0 1 0 1 0 0 0 0 0 0 0 1 1 1 1 1 0 1 0 1 1 0 0 1]\n"
     ]
    }
   ],
   "source": [
    "#printing prediction\n",
    "\n",
    "print(classifier.predict(X_train))\n",
    "print(y_train.values)"
   ]
  },
  {
   "cell_type": "code",
   "execution_count": 43,
   "id": "3a6e2851",
   "metadata": {},
   "outputs": [
    {
     "name": "stdout",
     "output_type": "stream",
     "text": [
      "1.0\n",
      "\n",
      "              precision    recall  f1-score   support\n",
      "\n",
      "           0       1.00      1.00      1.00        14\n",
      "           1       1.00      1.00      1.00        11\n",
      "\n",
      "    accuracy                           1.00        25\n",
      "   macro avg       1.00      1.00      1.00        25\n",
      "weighted avg       1.00      1.00      1.00        25\n",
      "\n"
     ]
    }
   ],
   "source": [
    "#evaluating model on test data set\n",
    "\n",
    "from sklearn.metrics import classification_report, accuracy_score\n",
    "pred=classifier.predict(X_train)\n",
    "print(accuracy_score(y_train,pred))\n",
    "print(\"\")\n",
    "print(classification_report(y_train,pred))"
   ]
  }
 ],
 "metadata": {
  "kernelspec": {
   "display_name": "Python 3 (ipykernel)",
   "language": "python",
   "name": "python3"
  },
  "language_info": {
   "codemirror_mode": {
    "name": "ipython",
    "version": 3
   },
   "file_extension": ".py",
   "mimetype": "text/x-python",
   "name": "python",
   "nbconvert_exporter": "python",
   "pygments_lexer": "ipython3",
   "version": "3.9.12"
  }
 },
 "nbformat": 4,
 "nbformat_minor": 5
}
